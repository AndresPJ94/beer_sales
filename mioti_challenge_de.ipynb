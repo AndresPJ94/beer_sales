{
 "cells": [
  {
   "cell_type": "markdown",
   "metadata": {},
   "source": [
    "# Análisis de las ventas de cerveza en una cadena de supermercados\n",
    "\n",
    "### Descripción del problema\n",
    "\n",
    "En el siguiente análisis vamos a estudiar las ventas de cervezas en una cadena de supermercados durante el mes de Junio de 2018. Para ello contamos con dos ficheros de entrada:\n",
    "\n",
    "* `master_articles.h5`: contiene la información del maestro de articulos. Tiene los siguientes campos:\n",
    " * `Articulo_Codigo` : identificador único del artículo\n",
    " * `Articulo_Nombre` : nombre del articulo\n",
    " * `GVSV`: categoría a la que pertenece el artículo (cervezas, bebidas refrescantes, café, etc.)\n",
    "* `beer_sales.h5`: contiene todos los tickets de venta de cervezas (a nivel de línea de ticket). Tiene los siguientes campos:\n",
    " * `articulo`: identificador único del artículo comprado\n",
    " * `cantidad`: unidades compradas de ese artículo en el ticket\n",
    " * `importe`: importe en euros de ese artículo en el ticket\n",
    " * `tienda`: identificador único de la tienda donde se produjo la linea de ticket\n",
    " * `caja`: identificador de la caja registradora en la que se produjo la linea de ticket\n",
    " * `dia`: dia en el que se produjo la linea de ticket\n",
    " * `hora`: hora en la que se produjo la linea de ticket\n",
    " * `minuto`: minuto en el que se produjo la linea de ticket\n",
    " * `ticket`: identificador NO único del ticket (es un identificador del ticket por tienda y caja)"
   ]
  },
  {
   "cell_type": "markdown",
   "metadata": {},
   "source": [
    "### Desarrollo de la solución\n",
    "\n",
    "En primer lugar, nos gustaría traernos el nombre de cada artículo al dataset de tickets."
   ]
  },
  {
   "cell_type": "code",
   "execution_count": 4,
   "metadata": {
    "metadata": {}
   },
   "outputs": [
    {
     "data": {
      "text/html": [
       "<div>\n",
       "<style scoped>\n",
       "    .dataframe tbody tr th:only-of-type {\n",
       "        vertical-align: middle;\n",
       "    }\n",
       "\n",
       "    .dataframe tbody tr th {\n",
       "        vertical-align: top;\n",
       "    }\n",
       "\n",
       "    .dataframe thead th {\n",
       "        text-align: right;\n",
       "    }\n",
       "</style>\n",
       "<table border=\"1\" class=\"dataframe\">\n",
       "  <thead>\n",
       "    <tr style=\"text-align: right;\">\n",
       "      <th></th>\n",
       "      <th>articulo</th>\n",
       "      <th>caja</th>\n",
       "      <th>cantidad</th>\n",
       "      <th>dia</th>\n",
       "      <th>hora</th>\n",
       "      <th>importe</th>\n",
       "      <th>minuto</th>\n",
       "      <th>ticket</th>\n",
       "      <th>tienda</th>\n",
       "      <th>Articulo_Nombre</th>\n",
       "    </tr>\n",
       "  </thead>\n",
       "  <tbody>\n",
       "    <tr>\n",
       "      <th>0</th>\n",
       "      <td>19519</td>\n",
       "      <td>3</td>\n",
       "      <td>1.0</td>\n",
       "      <td>23</td>\n",
       "      <td>13</td>\n",
       "      <td>6.12</td>\n",
       "      <td>19</td>\n",
       "      <td>137</td>\n",
       "      <td>14808</td>\n",
       "      <td>SAN MIGUEL 12X33cl.</td>\n",
       "    </tr>\n",
       "    <tr>\n",
       "      <th>1</th>\n",
       "      <td>19519</td>\n",
       "      <td>3</td>\n",
       "      <td>1.0</td>\n",
       "      <td>29</td>\n",
       "      <td>11</td>\n",
       "      <td>6.12</td>\n",
       "      <td>52</td>\n",
       "      <td>78</td>\n",
       "      <td>14808</td>\n",
       "      <td>SAN MIGUEL 12X33cl.</td>\n",
       "    </tr>\n",
       "    <tr>\n",
       "      <th>2</th>\n",
       "      <td>7571</td>\n",
       "      <td>2</td>\n",
       "      <td>6.0</td>\n",
       "      <td>30</td>\n",
       "      <td>18</td>\n",
       "      <td>3.90</td>\n",
       "      <td>37</td>\n",
       "      <td>310</td>\n",
       "      <td>14967</td>\n",
       "      <td>ESTR.GALICIA 33cl.</td>\n",
       "    </tr>\n",
       "    <tr>\n",
       "      <th>3</th>\n",
       "      <td>8128</td>\n",
       "      <td>3</td>\n",
       "      <td>1.0</td>\n",
       "      <td>5</td>\n",
       "      <td>13</td>\n",
       "      <td>0.00</td>\n",
       "      <td>44</td>\n",
       "      <td>57</td>\n",
       "      <td>14214</td>\n",
       "      <td>MOLENBIER 33cl.</td>\n",
       "    </tr>\n",
       "    <tr>\n",
       "      <th>4</th>\n",
       "      <td>13340</td>\n",
       "      <td>3</td>\n",
       "      <td>1.0</td>\n",
       "      <td>5</td>\n",
       "      <td>13</td>\n",
       "      <td>0.00</td>\n",
       "      <td>44</td>\n",
       "      <td>57</td>\n",
       "      <td>14214</td>\n",
       "      <td>SKOL 33cl.</td>\n",
       "    </tr>\n",
       "    <tr>\n",
       "      <th>5</th>\n",
       "      <td>13340</td>\n",
       "      <td>5</td>\n",
       "      <td>1.0</td>\n",
       "      <td>2</td>\n",
       "      <td>12</td>\n",
       "      <td>0.00</td>\n",
       "      <td>2</td>\n",
       "      <td>38</td>\n",
       "      <td>14802</td>\n",
       "      <td>SKOL 33cl.</td>\n",
       "    </tr>\n",
       "    <tr>\n",
       "      <th>6</th>\n",
       "      <td>8128</td>\n",
       "      <td>6</td>\n",
       "      <td>1.0</td>\n",
       "      <td>5</td>\n",
       "      <td>9</td>\n",
       "      <td>0.00</td>\n",
       "      <td>49</td>\n",
       "      <td>22</td>\n",
       "      <td>14802</td>\n",
       "      <td>MOLENBIER 33cl.</td>\n",
       "    </tr>\n",
       "    <tr>\n",
       "      <th>7</th>\n",
       "      <td>8128</td>\n",
       "      <td>2</td>\n",
       "      <td>1.0</td>\n",
       "      <td>8</td>\n",
       "      <td>11</td>\n",
       "      <td>0.00</td>\n",
       "      <td>36</td>\n",
       "      <td>69</td>\n",
       "      <td>14097</td>\n",
       "      <td>MOLENBIER 33cl.</td>\n",
       "    </tr>\n",
       "    <tr>\n",
       "      <th>8</th>\n",
       "      <td>8128</td>\n",
       "      <td>4</td>\n",
       "      <td>1.0</td>\n",
       "      <td>2</td>\n",
       "      <td>14</td>\n",
       "      <td>0.00</td>\n",
       "      <td>35</td>\n",
       "      <td>70</td>\n",
       "      <td>14202</td>\n",
       "      <td>MOLENBIER 33cl.</td>\n",
       "    </tr>\n",
       "    <tr>\n",
       "      <th>9</th>\n",
       "      <td>8128</td>\n",
       "      <td>2</td>\n",
       "      <td>24.0</td>\n",
       "      <td>19</td>\n",
       "      <td>17</td>\n",
       "      <td>6.00</td>\n",
       "      <td>29</td>\n",
       "      <td>256</td>\n",
       "      <td>14202</td>\n",
       "      <td>MOLENBIER 33cl.</td>\n",
       "    </tr>\n",
       "  </tbody>\n",
       "</table>\n",
       "</div>"
      ],
      "text/plain": [
       "   articulo caja  cantidad dia hora  importe minuto ticket  tienda  \\\n",
       "0     19519    3       1.0  23   13     6.12     19    137   14808   \n",
       "1     19519    3       1.0  29   11     6.12     52     78   14808   \n",
       "2      7571    2       6.0  30   18     3.90     37    310   14967   \n",
       "3      8128    3       1.0   5   13     0.00     44     57   14214   \n",
       "4     13340    3       1.0   5   13     0.00     44     57   14214   \n",
       "5     13340    5       1.0   2   12     0.00      2     38   14802   \n",
       "6      8128    6       1.0   5    9     0.00     49     22   14802   \n",
       "7      8128    2       1.0   8   11     0.00     36     69   14097   \n",
       "8      8128    4       1.0   2   14     0.00     35     70   14202   \n",
       "9      8128    2      24.0  19   17     6.00     29    256   14202   \n",
       "\n",
       "        Articulo_Nombre  \n",
       "0   SAN MIGUEL 12X33cl.  \n",
       "1   SAN MIGUEL 12X33cl.  \n",
       "2    ESTR.GALICIA 33cl.  \n",
       "3       MOLENBIER 33cl.  \n",
       "4            SKOL 33cl.  \n",
       "5            SKOL 33cl.  \n",
       "6       MOLENBIER 33cl.  \n",
       "7       MOLENBIER 33cl.  \n",
       "8       MOLENBIER 33cl.  \n",
       "9       MOLENBIER 33cl.  "
      ]
     },
     "execution_count": 4,
     "metadata": {},
     "output_type": "execute_result"
    }
   ],
   "source": [
    "import pandas as pd\n",
    "\n",
    "# Primero cargamos con Pandas los datos del master_articles y de beer_sales\n",
    "master_articles = pd.read_hdf('data/master_articles.h5')\n",
    "beer_sales = pd.read_hdf('data/beer_sales.h5')\n",
    "\n",
    "# Hacemos un join de ambos df en base al campo 'articulo'\n",
    "beer_sales_with_names = pd.merge(beer_sales, master_articles, left_on='articulo', right_on='Articulo_Codigo', how='left')\n",
    "\n",
    "#Ahora eliminamos las columnas GVSV y Articulo_Codigo ya que no son necesarias\n",
    "beer_sales_with_names.drop(columns=['Articulo_Codigo', 'GVSV'], inplace=True)\n",
    "\n",
    "# Mostramos un head del resultado\n",
    "beer_sales_with_names.head(10)\n"
   ]
  },
  {
   "cell_type": "markdown",
   "metadata": {},
   "source": [
    "Como se ha explicado en la descripción del problema, el campo `ticket` del dataset de ventas no es único. Es decir, puede haber líneas de ticket que compartan valor de `ticket` sin pertenecer necesariamente al mismo ticket. Dada la información disponible, ¿se te ocurre alguna manera de generar un id de ticket que identifique unequívocamente las lineas que pertenecen a un mismo ticket?"
   ]
  },
  {
   "cell_type": "markdown",
   "metadata": {},
   "source": [
    "<span style=\"color:grey\"> Puesto que el campo ticket no es único y puede haber rows que compartan el mismo valor de ticket sin pertenecer al mismo ticket realmente, necesitamos generar una nueva variable que nos permita generar un identificador único para cada ticket. Una buena estrategia puede ser generar una nueva columna que sea combinación de varias variables ya existentes para así poder garantizar su unicidad. \n",
    "\n",
    "<span style=\"color:grey\"> En este caso vamos a generar una columna llamada id_ticket que concatene los campos 'tienda', 'caja', 'ticket' y 'dia', ya que nos asegura que cada identificador resultante sea único para cada combinación de tienda, caja, ticket y dia. Con esta combinación podemos garantizar que el valor de ticket_id será único para cada compra. </span>"
   ]
  },
  {
   "cell_type": "code",
   "execution_count": 5,
   "metadata": {
    "metadata": {}
   },
   "outputs": [
    {
     "data": {
      "text/html": [
       "<div>\n",
       "<style scoped>\n",
       "    .dataframe tbody tr th:only-of-type {\n",
       "        vertical-align: middle;\n",
       "    }\n",
       "\n",
       "    .dataframe tbody tr th {\n",
       "        vertical-align: top;\n",
       "    }\n",
       "\n",
       "    .dataframe thead th {\n",
       "        text-align: right;\n",
       "    }\n",
       "</style>\n",
       "<table border=\"1\" class=\"dataframe\">\n",
       "  <thead>\n",
       "    <tr style=\"text-align: right;\">\n",
       "      <th></th>\n",
       "      <th>articulo</th>\n",
       "      <th>caja</th>\n",
       "      <th>cantidad</th>\n",
       "      <th>dia</th>\n",
       "      <th>hora</th>\n",
       "      <th>importe</th>\n",
       "      <th>minuto</th>\n",
       "      <th>ticket</th>\n",
       "      <th>tienda</th>\n",
       "      <th>Articulo_Nombre</th>\n",
       "      <th>id_ticket</th>\n",
       "    </tr>\n",
       "  </thead>\n",
       "  <tbody>\n",
       "    <tr>\n",
       "      <th>0</th>\n",
       "      <td>19519</td>\n",
       "      <td>3</td>\n",
       "      <td>1.0</td>\n",
       "      <td>23</td>\n",
       "      <td>13</td>\n",
       "      <td>6.12</td>\n",
       "      <td>19</td>\n",
       "      <td>137</td>\n",
       "      <td>14808</td>\n",
       "      <td>SAN MIGUEL 12X33cl.</td>\n",
       "      <td>14808_3_137_23</td>\n",
       "    </tr>\n",
       "    <tr>\n",
       "      <th>1</th>\n",
       "      <td>19519</td>\n",
       "      <td>3</td>\n",
       "      <td>1.0</td>\n",
       "      <td>29</td>\n",
       "      <td>11</td>\n",
       "      <td>6.12</td>\n",
       "      <td>52</td>\n",
       "      <td>78</td>\n",
       "      <td>14808</td>\n",
       "      <td>SAN MIGUEL 12X33cl.</td>\n",
       "      <td>14808_3_78_29</td>\n",
       "    </tr>\n",
       "    <tr>\n",
       "      <th>2</th>\n",
       "      <td>7571</td>\n",
       "      <td>2</td>\n",
       "      <td>6.0</td>\n",
       "      <td>30</td>\n",
       "      <td>18</td>\n",
       "      <td>3.90</td>\n",
       "      <td>37</td>\n",
       "      <td>310</td>\n",
       "      <td>14967</td>\n",
       "      <td>ESTR.GALICIA 33cl.</td>\n",
       "      <td>14967_2_310_30</td>\n",
       "    </tr>\n",
       "    <tr>\n",
       "      <th>3</th>\n",
       "      <td>8128</td>\n",
       "      <td>3</td>\n",
       "      <td>1.0</td>\n",
       "      <td>5</td>\n",
       "      <td>13</td>\n",
       "      <td>0.00</td>\n",
       "      <td>44</td>\n",
       "      <td>57</td>\n",
       "      <td>14214</td>\n",
       "      <td>MOLENBIER 33cl.</td>\n",
       "      <td>14214_3_57_5</td>\n",
       "    </tr>\n",
       "    <tr>\n",
       "      <th>4</th>\n",
       "      <td>13340</td>\n",
       "      <td>3</td>\n",
       "      <td>1.0</td>\n",
       "      <td>5</td>\n",
       "      <td>13</td>\n",
       "      <td>0.00</td>\n",
       "      <td>44</td>\n",
       "      <td>57</td>\n",
       "      <td>14214</td>\n",
       "      <td>SKOL 33cl.</td>\n",
       "      <td>14214_3_57_5</td>\n",
       "    </tr>\n",
       "    <tr>\n",
       "      <th>5</th>\n",
       "      <td>13340</td>\n",
       "      <td>5</td>\n",
       "      <td>1.0</td>\n",
       "      <td>2</td>\n",
       "      <td>12</td>\n",
       "      <td>0.00</td>\n",
       "      <td>2</td>\n",
       "      <td>38</td>\n",
       "      <td>14802</td>\n",
       "      <td>SKOL 33cl.</td>\n",
       "      <td>14802_5_38_2</td>\n",
       "    </tr>\n",
       "    <tr>\n",
       "      <th>6</th>\n",
       "      <td>8128</td>\n",
       "      <td>6</td>\n",
       "      <td>1.0</td>\n",
       "      <td>5</td>\n",
       "      <td>9</td>\n",
       "      <td>0.00</td>\n",
       "      <td>49</td>\n",
       "      <td>22</td>\n",
       "      <td>14802</td>\n",
       "      <td>MOLENBIER 33cl.</td>\n",
       "      <td>14802_6_22_5</td>\n",
       "    </tr>\n",
       "    <tr>\n",
       "      <th>7</th>\n",
       "      <td>8128</td>\n",
       "      <td>2</td>\n",
       "      <td>1.0</td>\n",
       "      <td>8</td>\n",
       "      <td>11</td>\n",
       "      <td>0.00</td>\n",
       "      <td>36</td>\n",
       "      <td>69</td>\n",
       "      <td>14097</td>\n",
       "      <td>MOLENBIER 33cl.</td>\n",
       "      <td>14097_2_69_8</td>\n",
       "    </tr>\n",
       "    <tr>\n",
       "      <th>8</th>\n",
       "      <td>8128</td>\n",
       "      <td>4</td>\n",
       "      <td>1.0</td>\n",
       "      <td>2</td>\n",
       "      <td>14</td>\n",
       "      <td>0.00</td>\n",
       "      <td>35</td>\n",
       "      <td>70</td>\n",
       "      <td>14202</td>\n",
       "      <td>MOLENBIER 33cl.</td>\n",
       "      <td>14202_4_70_2</td>\n",
       "    </tr>\n",
       "    <tr>\n",
       "      <th>9</th>\n",
       "      <td>8128</td>\n",
       "      <td>2</td>\n",
       "      <td>24.0</td>\n",
       "      <td>19</td>\n",
       "      <td>17</td>\n",
       "      <td>6.00</td>\n",
       "      <td>29</td>\n",
       "      <td>256</td>\n",
       "      <td>14202</td>\n",
       "      <td>MOLENBIER 33cl.</td>\n",
       "      <td>14202_2_256_19</td>\n",
       "    </tr>\n",
       "  </tbody>\n",
       "</table>\n",
       "</div>"
      ],
      "text/plain": [
       "   articulo caja  cantidad dia hora  importe minuto ticket  tienda  \\\n",
       "0     19519    3       1.0  23   13     6.12     19    137   14808   \n",
       "1     19519    3       1.0  29   11     6.12     52     78   14808   \n",
       "2      7571    2       6.0  30   18     3.90     37    310   14967   \n",
       "3      8128    3       1.0   5   13     0.00     44     57   14214   \n",
       "4     13340    3       1.0   5   13     0.00     44     57   14214   \n",
       "5     13340    5       1.0   2   12     0.00      2     38   14802   \n",
       "6      8128    6       1.0   5    9     0.00     49     22   14802   \n",
       "7      8128    2       1.0   8   11     0.00     36     69   14097   \n",
       "8      8128    4       1.0   2   14     0.00     35     70   14202   \n",
       "9      8128    2      24.0  19   17     6.00     29    256   14202   \n",
       "\n",
       "        Articulo_Nombre       id_ticket  \n",
       "0   SAN MIGUEL 12X33cl.  14808_3_137_23  \n",
       "1   SAN MIGUEL 12X33cl.   14808_3_78_29  \n",
       "2    ESTR.GALICIA 33cl.  14967_2_310_30  \n",
       "3       MOLENBIER 33cl.    14214_3_57_5  \n",
       "4            SKOL 33cl.    14214_3_57_5  \n",
       "5            SKOL 33cl.    14802_5_38_2  \n",
       "6       MOLENBIER 33cl.    14802_6_22_5  \n",
       "7       MOLENBIER 33cl.    14097_2_69_8  \n",
       "8       MOLENBIER 33cl.    14202_4_70_2  \n",
       "9       MOLENBIER 33cl.  14202_2_256_19  "
      ]
     },
     "execution_count": 5,
     "metadata": {},
     "output_type": "execute_result"
    }
   ],
   "source": [
    "# Creamos el campo 'id_ticket' concatenando 'tienda', 'caja' y 'ticket' en una copia de nuestro df original\n",
    "beer_names_with_ID = beer_sales_with_names.copy()\n",
    "beer_names_with_ID['id_ticket'] = beer_names_with_ID['tienda'].astype(str) + '_' + beer_names_with_ID['caja'].astype(str) + '_' + beer_names_with_ID['ticket'].astype(str) + '_' + beer_names_with_ID['dia'].astype(str)\n",
    "beer_names_with_ID.head(10)"
   ]
  },
  {
   "cell_type": "markdown",
   "metadata": {},
   "source": [
    "¿Se te ocurre alguna manera de verificar que el identificador generado agrupa correctamente las líneas de ticket? ¿Qué consecuencias crees que podría tener el no generarlo correctamente?"
   ]
  },
  {
   "cell_type": "markdown",
   "metadata": {},
   "source": [
    "<span style=\"color:grey\"> Las consecuencias de no generar correctamente el identificador son la pérdida de información de ventas individuales y la la dificultad para realizar análisis precisos sobre los patrones de compra. Esto podría repercutir negativamente en la capacidad de la empresa para tomar decisiones sobre inventario, campañas de marketing....\n",
    "\n"
   ]
  },
  {
   "cell_type": "markdown",
   "metadata": {},
   "source": [
    "Ahora, nos gustaría ver en un gráfico las ventas por articulo del TOP 10 de cervezas más vendidas."
   ]
  },
  {
   "cell_type": "code",
   "execution_count": 6,
   "metadata": {
    "metadata": {}
   },
   "outputs": [
    {
     "data": {
      "image/png": "[encoded data removed]",
      "text/plain": [
       "<Figure size 600x600 with 1 Axes>"
      ]
     },
     "metadata": {},
     "output_type": "display_data"
    }
   ],
   "source": [
    "import matplotlib.pyplot as plt\n",
    "\n",
    "# Calculamos las ventas totales de cada artículo de cerveza\n",
    "beer_sales_by_article = beer_sales_with_names.groupby('Articulo_Nombre')['cantidad'].sum()\n",
    "\n",
    "# Seleccionamos los 10 artículos de cerveza más vendidos\n",
    "top_10_beers = beer_sales_by_article.nlargest(10)\n",
    "\n",
    "# Configuramos el pie plot\n",
    "plt.figure(figsize=(6, 6))\n",
    "plt.pie(top_10_beers, labels=top_10_beers.index, autopct='%1.1f%%', startangle=140)\n",
    "plt.title('Top 10 Cervezas Más Vendidas')\n",
    "\n",
    "# Mostramos el gráfico\n",
    "plt.axis('equal')  # Para que el gráfico sea circular\n",
    "plt.tight_layout()\n",
    "plt.savefig('outputs/Top_10_cervezas.png')\n",
    "plt.show()\n",
    "\n"
   ]
  },
  {
   "cell_type": "markdown",
   "metadata": {},
   "source": [
    "Se han detectado una serie de tickets anómalos en los que la cantidad de cervezas compradas es extremadamente alto. ¿Como harías para detectarlos y filtrarlos de nuestro conjunto de ventas?"
   ]
  },
  {
   "cell_type": "markdown",
   "metadata": {},
   "source": [
    "<span style=\"color:grey\"> Para detectar y filtrar los tickets anómalos en donde la cantidad de cervezas compradas es extremdamente alta se pueden utilizar técnicas de detección de outliers. Una forma común de realizar esto calcular estadísticas descriptivas sobre la cantidad de cervezas compradas y luego identificar los tickets que están significativamente por encima de ciertos umbrales.\n",
    "\n",
    "\n",
    "<span style=\"color:grey\"> Usualmente se calcula la media y la desviación estándar para esto, considerando como anómalos los tickets cuya cantidad de cervezas está más de ciertos múltiplos de la desviación estándar por encima de la media. Usualmente se utiliza una desviación estándar de 3 para considerar outliers. Un ejemplo empleando código con Python sería:"
   ]
  },
  {
   "cell_type": "code",
   "execution_count": 7,
   "metadata": {
    "metadata": {}
   },
   "outputs": [
    {
     "data": {
      "text/html": [
       "<div>\n",
       "<style scoped>\n",
       "    .dataframe tbody tr th:only-of-type {\n",
       "        vertical-align: middle;\n",
       "    }\n",
       "\n",
       "    .dataframe tbody tr th {\n",
       "        vertical-align: top;\n",
       "    }\n",
       "\n",
       "    .dataframe thead th {\n",
       "        text-align: right;\n",
       "    }\n",
       "</style>\n",
       "<table border=\"1\" class=\"dataframe\">\n",
       "  <thead>\n",
       "    <tr style=\"text-align: right;\">\n",
       "      <th></th>\n",
       "      <th>articulo</th>\n",
       "      <th>caja</th>\n",
       "      <th>cantidad</th>\n",
       "      <th>dia</th>\n",
       "      <th>hora</th>\n",
       "      <th>importe</th>\n",
       "      <th>minuto</th>\n",
       "      <th>ticket</th>\n",
       "      <th>tienda</th>\n",
       "      <th>Articulo_Nombre</th>\n",
       "    </tr>\n",
       "  </thead>\n",
       "  <tbody>\n",
       "    <tr>\n",
       "      <th>118</th>\n",
       "      <td>10486</td>\n",
       "      <td>3</td>\n",
       "      <td>48.0</td>\n",
       "      <td>15</td>\n",
       "      <td>14</td>\n",
       "      <td>23.52</td>\n",
       "      <td>16</td>\n",
       "      <td>6</td>\n",
       "      <td>14316</td>\n",
       "      <td>KELER LUXE 33cl.</td>\n",
       "    </tr>\n",
       "    <tr>\n",
       "      <th>161</th>\n",
       "      <td>7643</td>\n",
       "      <td>3</td>\n",
       "      <td>49.0</td>\n",
       "      <td>22</td>\n",
       "      <td>18</td>\n",
       "      <td>28.91</td>\n",
       "      <td>15</td>\n",
       "      <td>334</td>\n",
       "      <td>14033</td>\n",
       "      <td>HEINEKEN 33cl.</td>\n",
       "    </tr>\n",
       "    <tr>\n",
       "      <th>543</th>\n",
       "      <td>10486</td>\n",
       "      <td>2</td>\n",
       "      <td>48.0</td>\n",
       "      <td>15</td>\n",
       "      <td>16</td>\n",
       "      <td>24.00</td>\n",
       "      <td>0</td>\n",
       "      <td>237</td>\n",
       "      <td>14824</td>\n",
       "      <td>KELER LUXE 33cl.</td>\n",
       "    </tr>\n",
       "    <tr>\n",
       "      <th>1164</th>\n",
       "      <td>52527</td>\n",
       "      <td>3</td>\n",
       "      <td>56.0</td>\n",
       "      <td>27</td>\n",
       "      <td>11</td>\n",
       "      <td>28.56</td>\n",
       "      <td>17</td>\n",
       "      <td>58</td>\n",
       "      <td>14801</td>\n",
       "      <td>CRUZCAMPO 33cl.</td>\n",
       "    </tr>\n",
       "    <tr>\n",
       "      <th>1588</th>\n",
       "      <td>7643</td>\n",
       "      <td>3</td>\n",
       "      <td>56.0</td>\n",
       "      <td>16</td>\n",
       "      <td>11</td>\n",
       "      <td>35.28</td>\n",
       "      <td>22</td>\n",
       "      <td>15</td>\n",
       "      <td>14950</td>\n",
       "      <td>HEINEKEN 33cl.</td>\n",
       "    </tr>\n",
       "    <tr>\n",
       "      <th>...</th>\n",
       "      <td>...</td>\n",
       "      <td>...</td>\n",
       "      <td>...</td>\n",
       "      <td>...</td>\n",
       "      <td>...</td>\n",
       "      <td>...</td>\n",
       "      <td>...</td>\n",
       "      <td>...</td>\n",
       "      <td>...</td>\n",
       "      <td>...</td>\n",
       "    </tr>\n",
       "    <tr>\n",
       "      <th>44253</th>\n",
       "      <td>12814</td>\n",
       "      <td>1</td>\n",
       "      <td>48.0</td>\n",
       "      <td>23</td>\n",
       "      <td>9</td>\n",
       "      <td>29.76</td>\n",
       "      <td>28</td>\n",
       "      <td>1</td>\n",
       "      <td>14973</td>\n",
       "      <td>MAHOU 5 EST 33cl.</td>\n",
       "    </tr>\n",
       "    <tr>\n",
       "      <th>45652</th>\n",
       "      <td>10486</td>\n",
       "      <td>1</td>\n",
       "      <td>96.0</td>\n",
       "      <td>2</td>\n",
       "      <td>11</td>\n",
       "      <td>47.04</td>\n",
       "      <td>4</td>\n",
       "      <td>5</td>\n",
       "      <td>14980</td>\n",
       "      <td>KELER LUXE 33cl.</td>\n",
       "    </tr>\n",
       "    <tr>\n",
       "      <th>45661</th>\n",
       "      <td>7643</td>\n",
       "      <td>4</td>\n",
       "      <td>48.0</td>\n",
       "      <td>1</td>\n",
       "      <td>13</td>\n",
       "      <td>30.24</td>\n",
       "      <td>3</td>\n",
       "      <td>104</td>\n",
       "      <td>14068</td>\n",
       "      <td>HEINEKEN 33cl.</td>\n",
       "    </tr>\n",
       "    <tr>\n",
       "      <th>45750</th>\n",
       "      <td>7643</td>\n",
       "      <td>2</td>\n",
       "      <td>50.0</td>\n",
       "      <td>7</td>\n",
       "      <td>12</td>\n",
       "      <td>22.50</td>\n",
       "      <td>13</td>\n",
       "      <td>30</td>\n",
       "      <td>14313</td>\n",
       "      <td>HEINEKEN 33cl.</td>\n",
       "    </tr>\n",
       "    <tr>\n",
       "      <th>45751</th>\n",
       "      <td>7643</td>\n",
       "      <td>2</td>\n",
       "      <td>50.0</td>\n",
       "      <td>8</td>\n",
       "      <td>10</td>\n",
       "      <td>22.50</td>\n",
       "      <td>20</td>\n",
       "      <td>19</td>\n",
       "      <td>14313</td>\n",
       "      <td>HEINEKEN 33cl.</td>\n",
       "    </tr>\n",
       "  </tbody>\n",
       "</table>\n",
       "<p>168 rows × 10 columns</p>\n",
       "</div>"
      ],
      "text/plain": [
       "       articulo caja  cantidad dia hora  importe minuto ticket  tienda  \\\n",
       "118       10486    3      48.0  15   14    23.52     16      6   14316   \n",
       "161        7643    3      49.0  22   18    28.91     15    334   14033   \n",
       "543       10486    2      48.0  15   16    24.00      0    237   14824   \n",
       "1164      52527    3      56.0  27   11    28.56     17     58   14801   \n",
       "1588       7643    3      56.0  16   11    35.28     22     15   14950   \n",
       "...         ...  ...       ...  ..  ...      ...    ...    ...     ...   \n",
       "44253     12814    1      48.0  23    9    29.76     28      1   14973   \n",
       "45652     10486    1      96.0   2   11    47.04      4      5   14980   \n",
       "45661      7643    4      48.0   1   13    30.24      3    104   14068   \n",
       "45750      7643    2      50.0   7   12    22.50     13     30   14313   \n",
       "45751      7643    2      50.0   8   10    22.50     20     19   14313   \n",
       "\n",
       "          Articulo_Nombre  \n",
       "118      KELER LUXE 33cl.  \n",
       "161        HEINEKEN 33cl.  \n",
       "543      KELER LUXE 33cl.  \n",
       "1164      CRUZCAMPO 33cl.  \n",
       "1588       HEINEKEN 33cl.  \n",
       "...                   ...  \n",
       "44253   MAHOU 5 EST 33cl.  \n",
       "45652    KELER LUXE 33cl.  \n",
       "45661      HEINEKEN 33cl.  \n",
       "45750      HEINEKEN 33cl.  \n",
       "45751      HEINEKEN 33cl.  \n",
       "\n",
       "[168 rows x 10 columns]"
      ]
     },
     "execution_count": 7,
     "metadata": {},
     "output_type": "execute_result"
    }
   ],
   "source": [
    "# Calculamos la media y la desviación estándar de la cantidad de cervezas compradas\n",
    "numero_desviaciones = 3\n",
    "mean = beer_sales_with_names['cantidad'].mean()\n",
    "std = beer_sales_with_names['cantidad'].std()\n",
    "\n",
    "# Definimos el umbral para identificar los tickets anómalos (por ejemplo, 3 desviaciones estándar por encima de la media)\n",
    "threshold = mean + numero_desviaciones * std\n",
    "\n",
    "# Filtramos los tickets anómalos\n",
    "anomalous_tickets = beer_sales_with_names[beer_sales_with_names['cantidad'] > threshold]\n",
    "anomalous_tickets"
   ]
  },
  {
   "cell_type": "markdown",
   "metadata": {},
   "source": [
    "¿Se te ocurre alguna manera de automáticamente detectar estos tickets en el futuro? ¿Y algún motivo de su presencia?"
   ]
  },
  {
   "cell_type": "markdown",
   "metadata": {},
   "source": [
    "<span style=\"color:grey\">Una forma de automatizar el proceso es crear una función que filtre nuestro df de forma automática, pasando como argumentos el df y el nombre de la columna. \n",
    "\n",
    "<span style=\"color:grey\">El motivo de su presencia es que son compras de alto volumen de artículos. Una posible explicación puede ser que algunos minoristas (restaurantes pequeños) compren las cervezas de sus establecimientos en supermercados, al carecer de otra cadena de suministro."
   ]
  },
  {
   "cell_type": "code",
   "execution_count": 8,
   "metadata": {
    "metadata": {}
   },
   "outputs": [
    {
     "data": {
      "text/html": [
       "<div>\n",
       "<style scoped>\n",
       "    .dataframe tbody tr th:only-of-type {\n",
       "        vertical-align: middle;\n",
       "    }\n",
       "\n",
       "    .dataframe tbody tr th {\n",
       "        vertical-align: top;\n",
       "    }\n",
       "\n",
       "    .dataframe thead th {\n",
       "        text-align: right;\n",
       "    }\n",
       "</style>\n",
       "<table border=\"1\" class=\"dataframe\">\n",
       "  <thead>\n",
       "    <tr style=\"text-align: right;\">\n",
       "      <th></th>\n",
       "      <th>articulo</th>\n",
       "      <th>caja</th>\n",
       "      <th>cantidad</th>\n",
       "      <th>dia</th>\n",
       "      <th>hora</th>\n",
       "      <th>importe</th>\n",
       "      <th>minuto</th>\n",
       "      <th>ticket</th>\n",
       "      <th>tienda</th>\n",
       "      <th>Articulo_Nombre</th>\n",
       "    </tr>\n",
       "  </thead>\n",
       "  <tbody>\n",
       "    <tr>\n",
       "      <th>118</th>\n",
       "      <td>10486</td>\n",
       "      <td>3</td>\n",
       "      <td>48.0</td>\n",
       "      <td>15</td>\n",
       "      <td>14</td>\n",
       "      <td>23.52</td>\n",
       "      <td>16</td>\n",
       "      <td>6</td>\n",
       "      <td>14316</td>\n",
       "      <td>KELER LUXE 33cl.</td>\n",
       "    </tr>\n",
       "    <tr>\n",
       "      <th>161</th>\n",
       "      <td>7643</td>\n",
       "      <td>3</td>\n",
       "      <td>49.0</td>\n",
       "      <td>22</td>\n",
       "      <td>18</td>\n",
       "      <td>28.91</td>\n",
       "      <td>15</td>\n",
       "      <td>334</td>\n",
       "      <td>14033</td>\n",
       "      <td>HEINEKEN 33cl.</td>\n",
       "    </tr>\n",
       "    <tr>\n",
       "      <th>543</th>\n",
       "      <td>10486</td>\n",
       "      <td>2</td>\n",
       "      <td>48.0</td>\n",
       "      <td>15</td>\n",
       "      <td>16</td>\n",
       "      <td>24.00</td>\n",
       "      <td>0</td>\n",
       "      <td>237</td>\n",
       "      <td>14824</td>\n",
       "      <td>KELER LUXE 33cl.</td>\n",
       "    </tr>\n",
       "    <tr>\n",
       "      <th>1164</th>\n",
       "      <td>52527</td>\n",
       "      <td>3</td>\n",
       "      <td>56.0</td>\n",
       "      <td>27</td>\n",
       "      <td>11</td>\n",
       "      <td>28.56</td>\n",
       "      <td>17</td>\n",
       "      <td>58</td>\n",
       "      <td>14801</td>\n",
       "      <td>CRUZCAMPO 33cl.</td>\n",
       "    </tr>\n",
       "    <tr>\n",
       "      <th>1588</th>\n",
       "      <td>7643</td>\n",
       "      <td>3</td>\n",
       "      <td>56.0</td>\n",
       "      <td>16</td>\n",
       "      <td>11</td>\n",
       "      <td>35.28</td>\n",
       "      <td>22</td>\n",
       "      <td>15</td>\n",
       "      <td>14950</td>\n",
       "      <td>HEINEKEN 33cl.</td>\n",
       "    </tr>\n",
       "    <tr>\n",
       "      <th>...</th>\n",
       "      <td>...</td>\n",
       "      <td>...</td>\n",
       "      <td>...</td>\n",
       "      <td>...</td>\n",
       "      <td>...</td>\n",
       "      <td>...</td>\n",
       "      <td>...</td>\n",
       "      <td>...</td>\n",
       "      <td>...</td>\n",
       "      <td>...</td>\n",
       "    </tr>\n",
       "    <tr>\n",
       "      <th>44253</th>\n",
       "      <td>12814</td>\n",
       "      <td>1</td>\n",
       "      <td>48.0</td>\n",
       "      <td>23</td>\n",
       "      <td>9</td>\n",
       "      <td>29.76</td>\n",
       "      <td>28</td>\n",
       "      <td>1</td>\n",
       "      <td>14973</td>\n",
       "      <td>MAHOU 5 EST 33cl.</td>\n",
       "    </tr>\n",
       "    <tr>\n",
       "      <th>45652</th>\n",
       "      <td>10486</td>\n",
       "      <td>1</td>\n",
       "      <td>96.0</td>\n",
       "      <td>2</td>\n",
       "      <td>11</td>\n",
       "      <td>47.04</td>\n",
       "      <td>4</td>\n",
       "      <td>5</td>\n",
       "      <td>14980</td>\n",
       "      <td>KELER LUXE 33cl.</td>\n",
       "    </tr>\n",
       "    <tr>\n",
       "      <th>45661</th>\n",
       "      <td>7643</td>\n",
       "      <td>4</td>\n",
       "      <td>48.0</td>\n",
       "      <td>1</td>\n",
       "      <td>13</td>\n",
       "      <td>30.24</td>\n",
       "      <td>3</td>\n",
       "      <td>104</td>\n",
       "      <td>14068</td>\n",
       "      <td>HEINEKEN 33cl.</td>\n",
       "    </tr>\n",
       "    <tr>\n",
       "      <th>45750</th>\n",
       "      <td>7643</td>\n",
       "      <td>2</td>\n",
       "      <td>50.0</td>\n",
       "      <td>7</td>\n",
       "      <td>12</td>\n",
       "      <td>22.50</td>\n",
       "      <td>13</td>\n",
       "      <td>30</td>\n",
       "      <td>14313</td>\n",
       "      <td>HEINEKEN 33cl.</td>\n",
       "    </tr>\n",
       "    <tr>\n",
       "      <th>45751</th>\n",
       "      <td>7643</td>\n",
       "      <td>2</td>\n",
       "      <td>50.0</td>\n",
       "      <td>8</td>\n",
       "      <td>10</td>\n",
       "      <td>22.50</td>\n",
       "      <td>20</td>\n",
       "      <td>19</td>\n",
       "      <td>14313</td>\n",
       "      <td>HEINEKEN 33cl.</td>\n",
       "    </tr>\n",
       "  </tbody>\n",
       "</table>\n",
       "<p>168 rows × 10 columns</p>\n",
       "</div>"
      ],
      "text/plain": [
       "       articulo caja  cantidad dia hora  importe minuto ticket  tienda  \\\n",
       "118       10486    3      48.0  15   14    23.52     16      6   14316   \n",
       "161        7643    3      49.0  22   18    28.91     15    334   14033   \n",
       "543       10486    2      48.0  15   16    24.00      0    237   14824   \n",
       "1164      52527    3      56.0  27   11    28.56     17     58   14801   \n",
       "1588       7643    3      56.0  16   11    35.28     22     15   14950   \n",
       "...         ...  ...       ...  ..  ...      ...    ...    ...     ...   \n",
       "44253     12814    1      48.0  23    9    29.76     28      1   14973   \n",
       "45652     10486    1      96.0   2   11    47.04      4      5   14980   \n",
       "45661      7643    4      48.0   1   13    30.24      3    104   14068   \n",
       "45750      7643    2      50.0   7   12    22.50     13     30   14313   \n",
       "45751      7643    2      50.0   8   10    22.50     20     19   14313   \n",
       "\n",
       "          Articulo_Nombre  \n",
       "118      KELER LUXE 33cl.  \n",
       "161        HEINEKEN 33cl.  \n",
       "543      KELER LUXE 33cl.  \n",
       "1164      CRUZCAMPO 33cl.  \n",
       "1588       HEINEKEN 33cl.  \n",
       "...                   ...  \n",
       "44253   MAHOU 5 EST 33cl.  \n",
       "45652    KELER LUXE 33cl.  \n",
       "45661      HEINEKEN 33cl.  \n",
       "45750      HEINEKEN 33cl.  \n",
       "45751      HEINEKEN 33cl.  \n",
       "\n",
       "[168 rows x 10 columns]"
      ]
     },
     "execution_count": 8,
     "metadata": {},
     "output_type": "execute_result"
    }
   ],
   "source": [
    "def detect_anomalous_tickets(df, column):\n",
    "    \"\"\"\n",
    "    Funcion que detecta tickets anómalos basados en la desviación estándar.\n",
    "\n",
    "    Args:\n",
    "    - df: DataFrame que contiene los datos de los tickets.\n",
    "    - column: Nombre de la columna que contiene la variable a analizar, debe pasarse como str.\n",
    "\n",
    "    Returns:\n",
    "    - DataFrame: DataFrame que contiene solo los tickets anómalos.\n",
    "    \"\"\"\n",
    "\n",
    "    # Calcular la media y la desviación estándar\n",
    "    mean = df[column].mean()\n",
    "    std = df[column].std()\n",
    "\n",
    "    # Definir el límite superior para identificar valores atípicos\n",
    "    umbral = mean + 3 * std\n",
    "\n",
    "    # Filtrar los tickets anómalos\n",
    "    anomalous_tickets = df[df[column] > umbral]\n",
    "\n",
    "    return anomalous_tickets\n",
    "\n",
    "detect_anomalous_tickets(beer_sales_with_names, \"cantidad\")"
   ]
  },
  {
   "cell_type": "markdown",
   "metadata": {},
   "source": [
    "A continuación, nos gustaría analizar qué cervezas se compran juntas más a menudo. Para ello, a partir de los tickets, calcularemos el número de veces que se compran cada par de articulos conjuntamente (en el mismo ticket)."
   ]
  },
  {
   "cell_type": "code",
   "execution_count": 9,
   "metadata": {
    "metadata": {}
   },
   "outputs": [
    {
     "data": {
      "text/html": [
       "<div>\n",
       "<style scoped>\n",
       "    .dataframe tbody tr th:only-of-type {\n",
       "        vertical-align: middle;\n",
       "    }\n",
       "\n",
       "    .dataframe tbody tr th {\n",
       "        vertical-align: top;\n",
       "    }\n",
       "\n",
       "    .dataframe thead th {\n",
       "        text-align: right;\n",
       "    }\n",
       "</style>\n",
       "<table border=\"1\" class=\"dataframe\">\n",
       "  <thead>\n",
       "    <tr style=\"text-align: right;\">\n",
       "      <th></th>\n",
       "      <th>Pair</th>\n",
       "      <th>Frequency</th>\n",
       "    </tr>\n",
       "  </thead>\n",
       "  <tbody>\n",
       "    <tr>\n",
       "      <th>2</th>\n",
       "      <td>( MOLENBIER 33cl.,  SKOL 33cl.)</td>\n",
       "      <td>275</td>\n",
       "    </tr>\n",
       "    <tr>\n",
       "      <th>18</th>\n",
       "      <td>( SAN MIGUEL 33cl.,  SAN MIGUEL 50cl.)</td>\n",
       "      <td>95</td>\n",
       "    </tr>\n",
       "    <tr>\n",
       "      <th>9</th>\n",
       "      <td>( HEINEKEN 33cl.,  SAN MIGUEL 33cl.)</td>\n",
       "      <td>74</td>\n",
       "    </tr>\n",
       "    <tr>\n",
       "      <th>11</th>\n",
       "      <td>( MOLENBIER 33cl.,  SAN MIGUEL 33cl.)</td>\n",
       "      <td>67</td>\n",
       "    </tr>\n",
       "    <tr>\n",
       "      <th>0</th>\n",
       "      <td>( KELER LUXE 33cl.,  SAN MIGUEL 33cl.)</td>\n",
       "      <td>59</td>\n",
       "    </tr>\n",
       "    <tr>\n",
       "      <th>14</th>\n",
       "      <td>( MOLENBIER 33cl.,  MOLENBIER100%MALT 33cl.)</td>\n",
       "      <td>51</td>\n",
       "    </tr>\n",
       "    <tr>\n",
       "      <th>1</th>\n",
       "      <td>( HEINEKEN 33cl.,  KELER LUXE 33cl.)</td>\n",
       "      <td>48</td>\n",
       "    </tr>\n",
       "    <tr>\n",
       "      <th>61</th>\n",
       "      <td>( MAHOU 5 EST 33cl.,  MAHOU CLASICA 33cl.)</td>\n",
       "      <td>41</td>\n",
       "    </tr>\n",
       "    <tr>\n",
       "      <th>46</th>\n",
       "      <td>( ESTR.GALICIA 33cl.,  MOLENBIER 33cl.)</td>\n",
       "      <td>40</td>\n",
       "    </tr>\n",
       "    <tr>\n",
       "      <th>36</th>\n",
       "      <td>( ESTR.GALICIA 33cl.,  SAN MIGUEL 33cl.)</td>\n",
       "      <td>35</td>\n",
       "    </tr>\n",
       "  </tbody>\n",
       "</table>\n",
       "</div>"
      ],
      "text/plain": [
       "                                            Pair  Frequency\n",
       "2                ( MOLENBIER 33cl.,  SKOL 33cl.)        275\n",
       "18        ( SAN MIGUEL 33cl.,  SAN MIGUEL 50cl.)         95\n",
       "9           ( HEINEKEN 33cl.,  SAN MIGUEL 33cl.)         74\n",
       "11         ( MOLENBIER 33cl.,  SAN MIGUEL 33cl.)         67\n",
       "0         ( KELER LUXE 33cl.,  SAN MIGUEL 33cl.)         59\n",
       "14  ( MOLENBIER 33cl.,  MOLENBIER100%MALT 33cl.)         51\n",
       "1           ( HEINEKEN 33cl.,  KELER LUXE 33cl.)         48\n",
       "61    ( MAHOU 5 EST 33cl.,  MAHOU CLASICA 33cl.)         41\n",
       "46       ( ESTR.GALICIA 33cl.,  MOLENBIER 33cl.)         40\n",
       "36      ( ESTR.GALICIA 33cl.,  SAN MIGUEL 33cl.)         35"
      ]
     },
     "execution_count": 9,
     "metadata": {},
     "output_type": "execute_result"
    }
   ],
   "source": [
    "from itertools import combinations\n",
    "\n",
    "# Agrupamos las líneas de ticket por el identificador único de ticket\n",
    "ticket_groups = beer_names_with_ID.groupby('id_ticket')['Articulo_Nombre']\n",
    "\n",
    "# Creamos un dic vacío para almacenar la frecuencia de cada par de artículos\n",
    "pairs_frequency = {}\n",
    "\n",
    "# Iteramos sobre cada grupo de ticket\n",
    "for ticket_id, group in ticket_groups:\n",
    "    # Obtenemos todos los pares de artículos únicos en el ticket\n",
    "    unique_pairs = group.unique()\n",
    "    # Generamos todas las combinaciones posibles de pares de artículos\n",
    "    pairs_combinations = combinations(unique_pairs, 2)\n",
    "    # Actualizamos la frecuencia de cada par de artículos en el diccionario\n",
    "    for pair in pairs_combinations:\n",
    "        # Ordenamos alfabéticamente los nombres de los artículos en el par #NOTA: Si no realizamos esto obtenemos casos como ( SKOL 33cl., MOLENBIER 33cl.)\t138\t( MOLENBIER 33cl., SKOL 33cl.)\t137. (SON LO MISMO !)\n",
    "\n",
    "        pair = tuple(sorted(pair))\n",
    "        pairs_frequency[pair] = pairs_frequency.get(pair, 0) + 1\n",
    "\n",
    "# Convertimos el diccionario de frecuencias en un DataFrame\n",
    "pairs_df = pd.DataFrame(list(pairs_frequency.items()), columns=['Pair', 'Frequency'])\n",
    "\n",
    "# Definimos un umbral de frecuencia para filtrar los pares de artículos\n",
    "umbral_frecuencia = 5  # Este valor se puede modificar en función de los requerimientos de cada situación\n",
    "\n",
    "# Aplicamos el filtro y ordenamos de menor a mayor. Por último nos quedamos con las 10 combinaciones más repetidas.\n",
    "pares_frecuentes_df = pairs_df[pairs_df['Frequency'] >= umbral_frecuencia].sort_values(by='Frequency', ascending=False)\n",
    "pares_frecuentes_df.head(10)\n"
   ]
  },
  {
   "cell_type": "markdown",
   "metadata": {},
   "source": [
    "¿Se te ocurre alguna posible manera de optimizar este cálculo?"
   ]
  },
  {
   "cell_type": "markdown",
   "metadata": {},
   "source": [
    " <span style=\"color:grey\">1.- Crear un diccionario vacío y anexar elementos uno a uno no es la forma más eficiente para este tipo de estructuras. Se puede usar 'defaultdict' del módulo 'collections' que es más eficiente tanto en tiempo de ejecución como en gestión de memoria.\n",
    "\n",
    "<span style=\"color:grey\">2.- Reducir el número de combinaciones generadas. Limitar las combinaciones a solo los pares de artículos que aparecen juntos, AL MENOS, cinco veces (Este parámetro depende de las necesidades de negocio).\n",
    "\n",
    "<span style=\"color:grey\">3.- Paralelizar el cálculo. Si aún a pesar de todo el tiempo de ejecución sigue siendo muy elevado, se puede emplear PySpark para paralelizar el cálculo y acelerar el proceso.\n"
   ]
  },
  {
   "cell_type": "code",
   "execution_count": 10,
   "metadata": {
    "metadata": {}
   },
   "outputs": [
    {
     "data": {
      "text/html": [
       "<div>\n",
       "<style scoped>\n",
       "    .dataframe tbody tr th:only-of-type {\n",
       "        vertical-align: middle;\n",
       "    }\n",
       "\n",
       "    .dataframe tbody tr th {\n",
       "        vertical-align: top;\n",
       "    }\n",
       "\n",
       "    .dataframe thead th {\n",
       "        text-align: right;\n",
       "    }\n",
       "</style>\n",
       "<table border=\"1\" class=\"dataframe\">\n",
       "  <thead>\n",
       "    <tr style=\"text-align: right;\">\n",
       "      <th></th>\n",
       "      <th>Pair</th>\n",
       "      <th>Frequency</th>\n",
       "    </tr>\n",
       "  </thead>\n",
       "  <tbody>\n",
       "    <tr>\n",
       "      <th>2</th>\n",
       "      <td>( MOLENBIER 33cl.,  SKOL 33cl.)</td>\n",
       "      <td>275</td>\n",
       "    </tr>\n",
       "    <tr>\n",
       "      <th>18</th>\n",
       "      <td>( SAN MIGUEL 33cl.,  SAN MIGUEL 50cl.)</td>\n",
       "      <td>95</td>\n",
       "    </tr>\n",
       "    <tr>\n",
       "      <th>9</th>\n",
       "      <td>( HEINEKEN 33cl.,  SAN MIGUEL 33cl.)</td>\n",
       "      <td>74</td>\n",
       "    </tr>\n",
       "    <tr>\n",
       "      <th>11</th>\n",
       "      <td>( MOLENBIER 33cl.,  SAN MIGUEL 33cl.)</td>\n",
       "      <td>67</td>\n",
       "    </tr>\n",
       "    <tr>\n",
       "      <th>0</th>\n",
       "      <td>( KELER LUXE 33cl.,  SAN MIGUEL 33cl.)</td>\n",
       "      <td>59</td>\n",
       "    </tr>\n",
       "    <tr>\n",
       "      <th>14</th>\n",
       "      <td>( MOLENBIER 33cl.,  MOLENBIER100%MALT 33cl.)</td>\n",
       "      <td>51</td>\n",
       "    </tr>\n",
       "    <tr>\n",
       "      <th>1</th>\n",
       "      <td>( HEINEKEN 33cl.,  KELER LUXE 33cl.)</td>\n",
       "      <td>48</td>\n",
       "    </tr>\n",
       "    <tr>\n",
       "      <th>61</th>\n",
       "      <td>( MAHOU 5 EST 33cl.,  MAHOU CLASICA 33cl.)</td>\n",
       "      <td>41</td>\n",
       "    </tr>\n",
       "    <tr>\n",
       "      <th>46</th>\n",
       "      <td>( ESTR.GALICIA 33cl.,  MOLENBIER 33cl.)</td>\n",
       "      <td>40</td>\n",
       "    </tr>\n",
       "    <tr>\n",
       "      <th>36</th>\n",
       "      <td>( ESTR.GALICIA 33cl.,  SAN MIGUEL 33cl.)</td>\n",
       "      <td>35</td>\n",
       "    </tr>\n",
       "  </tbody>\n",
       "</table>\n",
       "</div>"
      ],
      "text/plain": [
       "                                            Pair  Frequency\n",
       "2                ( MOLENBIER 33cl.,  SKOL 33cl.)        275\n",
       "18        ( SAN MIGUEL 33cl.,  SAN MIGUEL 50cl.)         95\n",
       "9           ( HEINEKEN 33cl.,  SAN MIGUEL 33cl.)         74\n",
       "11         ( MOLENBIER 33cl.,  SAN MIGUEL 33cl.)         67\n",
       "0         ( KELER LUXE 33cl.,  SAN MIGUEL 33cl.)         59\n",
       "14  ( MOLENBIER 33cl.,  MOLENBIER100%MALT 33cl.)         51\n",
       "1           ( HEINEKEN 33cl.,  KELER LUXE 33cl.)         48\n",
       "61    ( MAHOU 5 EST 33cl.,  MAHOU CLASICA 33cl.)         41\n",
       "46       ( ESTR.GALICIA 33cl.,  MOLENBIER 33cl.)         40\n",
       "36      ( ESTR.GALICIA 33cl.,  SAN MIGUEL 33cl.)         35"
      ]
     },
     "execution_count": 10,
     "metadata": {},
     "output_type": "execute_result"
    }
   ],
   "source": [
    "#Aqui un código aplicando los dos primeros puntos:\n",
    "\n",
    "from collections import defaultdict\n",
    "\n",
    "def encontrar_pares_frecuentes_optimizado(df, umbral_frecuencia=5, top_n=10):\n",
    "    \"\"\"\n",
    "    Función que encuentra los pares de artículos más frecuentes en los tickets.\n",
    "\n",
    "    Args:\n",
    "        df (DataFrame): DataFrame que contiene las ventas de cervezas con los identificadores de ticket.\n",
    "        umbral_frecuencia (int): Umbral mínimo de frecuencia para considerar un par de artículos como frecuente. Por defecto el valor es 5.\n",
    "        top_n (int): Número de combinaciones más frecuentes que se deben devolver. Por defecto el valor es 10.\n",
    "\n",
    "    Returns:\n",
    "        DataFrame: DataFrame con los pares de artículos más frecuentes y su frecuencia.\n",
    "    \"\"\"\n",
    "\n",
    "    # Usamos defaultdict para almacenar la frecuencia de cada par de artículos\n",
    "    pairs_frequency = defaultdict(int)\n",
    "\n",
    "    # Iteramos sobre cada grupo de ticket\n",
    "    for ticket_id, group in ticket_groups:\n",
    "        # Obtenemos todos los pares de artículos únicos en el ticket\n",
    "        unique_pairs = group.unique()\n",
    "        # Generamos todas las combinaciones posibles de pares de artículos\n",
    "        pairs_combinations = combinations(unique_pairs, 2)\n",
    "        # Actualizamos la frecuencia de cada par de artículos en el diccionario\n",
    "        for pair in pairs_combinations:\n",
    "            # Ordenamos alfabéticamente los nombres de los artículos en el par #NOTA: Si no realizamos esto obtenemos cosas como ( SKOL 33cl., MOLENBIER 33cl.)\t138\t( MOLENBIER 33cl., SKOL 33cl.)\t137.\n",
    "\n",
    "            pair = tuple(sorted(pair))\n",
    "            pairs_frequency[pair] = pairs_frequency.get(pair, 0) + 1\n",
    "\n",
    "\n",
    "    # Convertimos el diccionario de frecuencias en un DataFrame\n",
    "    pairs_df = pd.DataFrame(list(pairs_frequency.items()), columns=['Pair', 'Frequency'])\n",
    "\n",
    "    # Filtramos los pares de artículos por umbral de frecuencia\n",
    "    pares_frecuentes_df = pairs_df[pairs_df['Frequency'] >= umbral_frecuencia]\n",
    "\n",
    "    # Ordenamos de mayor a menor frecuencia y obtenemos las N combinaciones más frecuentes\n",
    "    pares_frecuentes_top_n = pares_frecuentes_df.sort_values(by='Frequency', ascending=False).head(top_n)\n",
    "    \n",
    "    return pares_frecuentes_top_n\n",
    "\n",
    "# Llamar a la función con el DataFrame 'beer_names_with_ID' y los parámetros deseados\n",
    "pares_frecuentes_optimizado = encontrar_pares_frecuentes_optimizado(beer_names_with_ID, umbral_frecuencia=5, top_n=10)\n",
    "pares_frecuentes_optimizado"
   ]
  },
  {
   "cell_type": "markdown",
   "metadata": {},
   "source": [
    "¿Qué utilidad crees que puede tener esta información?"
   ]
  },
  {
   "cell_type": "markdown",
   "metadata": {},
   "source": [
    "<span style=\"color:grey\"> Conocer los artículos que más se venden puede ser de gran ayuda para:\n",
    "\n",
    "<span style=\"color:grey\"> 1.- Realizar cross-selling: Identificar estos productos que se suelen comprar juntos puede ayudar a desarrollar estrategias de cross-selling en las cuales se promocionan productos adicionales al cliente durante su compra. Un ejemplo sería descubrir que, junto a las cervezas, se compran aceitunas o patatas fritas de bolsa.\n",
    "\n",
    "<span style=\"color:grey\">2.- Gestión de inventario: y espacio en un supermercado: Conocer las combinaciones de productos que más se compran juntos habitualmente ayuda a gestionar inventarios y pedidos, o si no ponerlos en la misma sección de un supermercado para favorecer que el cliente compre ambos (si ya ha visto uno y hay gran correlación de compras, es muy probable que compre el otro)\n",
    "\n",
    "<span style=\"color:grey\">3.- Ofertas personalizadas: Gracias a estas correlaciones se pueden realizar promociones y ofertas mucho más efectiva. Si sabemos que un producto A se suele comprar junto a un producto B se puede ofrecer un descuento en B si se ha comprado A.\n"
   ]
  },
  {
   "cell_type": "markdown",
   "metadata": {},
   "source": [
    "Por último, nos gustaría ver como evoluciona la venta de cervezas a lo largo de la semana y por tramos horarios. ¿Podrías representar esto en un único gráfico? ¿Qué utilidad de negocio crees que tendría esta información segmentada?"
   ]
  },
  {
   "cell_type": "markdown",
   "metadata": {},
   "source": [
    "<span style=\"color:grey\">OPCIÓN 1: Plotly (gráfico interactivo)"
   ]
  },
  {
   "cell_type": "code",
   "execution_count": 11,
   "metadata": {
    "metadata": {}
   },
   "outputs": [
    {
     "data": {
      "application/vnd.plotly.v1+json": {
       "config": {
        "linkText": "Export to plot.ly",
        "plotlyServerURL": "https://plot.ly",
        "showLink": false
       },
       "data": [
        {
         "name": "citation",
         "type": "bar",
         "x": [
          1,
          2,
          3,
          4,
          5,
          6,
          7,
          8,
          9,
          10,
          11,
          12,
          13,
          14,
          15,
          16,
          17,
          18,
          19,
          20,
          21,
          22,
          23,
          24,
          25,
          26,
          27,
          28,
          29,
          30
         ],
         "y": [
          2446,
          2399,
          91,
          1818,
          1759,
          1785,
          1723,
          2410,
          2317,
          105,
          1547,
          1466,
          1365,
          1434,
          2688,
          1941,
          95,
          1289,
          1257,
          1410,
          1347,
          1875,
          1902,
          123,
          1577,
          1362,
          1370,
          1367,
          1759,
          1808
         ]
        },
        {
         "name": "teaching",
         "type": "bar",
         "x": [
          7,
          8,
          9,
          10,
          11,
          12,
          13,
          14,
          15,
          16,
          17,
          18,
          19,
          20,
          21,
          22
         ],
         "y": [
          1,
          36,
          2215,
          3810,
          5149,
          5798,
          5010,
          2989,
          1969,
          1737,
          2552,
          3985,
          5197,
          4620,
          761,
          6
         ]
        }
       ],
       "layout": {
        "barmode": "group",
        "template": {
         "data": {
          "bar": [
           {
            "error_x": {
             "color": "#2a3f5f"
            },
            "error_y": {
             "color": "#2a3f5f"
            },
            "marker": {
             "line": {
              "color": "#E5ECF6",
              "width": 0.5
             },
             "pattern": {
              "fillmode": "overlay",
              "size": 10,
              "solidity": 0.2
             }
            },
            "type": "bar"
           }
          ],
          "barpolar": [
           {
            "marker": {
             "line": {
              "color": "#E5ECF6",
              "width": 0.5
             },
             "pattern": {
              "fillmode": "overlay",
              "size": 10,
              "solidity": 0.2
             }
            },
            "type": "barpolar"
           }
          ],
          "carpet": [
           {
            "aaxis": {
             "endlinecolor": "#2a3f5f",
             "gridcolor": "white",
             "linecolor": "white",
             "minorgridcolor": "white",
             "startlinecolor": "#2a3f5f"
            },
            "baxis": {
             "endlinecolor": "#2a3f5f",
             "gridcolor": "white",
             "linecolor": "white",
             "minorgridcolor": "white",
             "startlinecolor": "#2a3f5f"
            },
            "type": "carpet"
           }
          ],
          "choropleth": [
           {
            "colorbar": {
             "outlinewidth": 0,
             "ticks": ""
            },
            "type": "choropleth"
           }
          ],
          "contour": [
           {
            "colorbar": {
             "outlinewidth": 0,
             "ticks": ""
            },
            "colorscale": [
             [
              0,
              "#0d0887"
             ],
             [
              0.1111111111111111,
              "#46039f"
             ],
             [
              0.2222222222222222,
              "#7201a8"
             ],
             [
              0.3333333333333333,
              "#9c179e"
             ],
             [
              0.4444444444444444,
              "#bd3786"
             ],
             [
              0.5555555555555556,
              "#d8576b"
             ],
             [
              0.6666666666666666,
              "#ed7953"
             ],
             [
              0.7777777777777778,
              "#fb9f3a"
             ],
             [
              0.8888888888888888,
              "#fdca26"
             ],
             [
              1,
              "#f0f921"
             ]
            ],
            "type": "contour"
           }
          ],
          "contourcarpet": [
           {
            "colorbar": {
             "outlinewidth": 0,
             "ticks": ""
            },
            "type": "contourcarpet"
           }
          ],
          "heatmap": [
           {
            "colorbar": {
             "outlinewidth": 0,
             "ticks": ""
            },
            "colorscale": [
             [
              0,
              "#0d0887"
             ],
             [
              0.1111111111111111,
              "#46039f"
             ],
             [
              0.2222222222222222,
              "#7201a8"
             ],
             [
              0.3333333333333333,
              "#9c179e"
             ],
             [
              0.4444444444444444,
              "#bd3786"
             ],
             [
              0.5555555555555556,
              "#d8576b"
             ],
             [
              0.6666666666666666,
              "#ed7953"
             ],
             [
              0.7777777777777778,
              "#fb9f3a"
             ],
             [
              0.8888888888888888,
              "#fdca26"
             ],
             [
              1,
              "#f0f921"
             ]
            ],
            "type": "heatmap"
           }
          ],
          "heatmapgl": [
           {
            "colorbar": {
             "outlinewidth": 0,
             "ticks": ""
            },
            "colorscale": [
             [
              0,
              "#0d0887"
             ],
             [
              0.1111111111111111,
              "#46039f"
             ],
             [
              0.2222222222222222,
              "#7201a8"
             ],
             [
              0.3333333333333333,
              "#9c179e"
             ],
             [
              0.4444444444444444,
              "#bd3786"
             ],
             [
              0.5555555555555556,
              "#d8576b"
             ],
             [
              0.6666666666666666,
              "#ed7953"
             ],
             [
              0.7777777777777778,
              "#fb9f3a"
             ],
             [
              0.8888888888888888,
              "#fdca26"
             ],
             [
              1,
              "#f0f921"
             ]
            ],
            "type": "heatmapgl"
           }
          ],
          "histogram": [
           {
            "marker": {
             "pattern": {
              "fillmode": "overlay",
              "size": 10,
              "solidity": 0.2
             }
            },
            "type": "histogram"
           }
          ],
          "histogram2d": [
           {
            "colorbar": {
             "outlinewidth": 0,
             "ticks": ""
            },
            "colorscale": [
             [
              0,
              "#0d0887"
             ],
             [
              0.1111111111111111,
              "#46039f"
             ],
             [
              0.2222222222222222,
              "#7201a8"
             ],
             [
              0.3333333333333333,
              "#9c179e"
             ],
             [
              0.4444444444444444,
              "#bd3786"
             ],
             [
              0.5555555555555556,
              "#d8576b"
             ],
             [
              0.6666666666666666,
              "#ed7953"
             ],
             [
              0.7777777777777778,
              "#fb9f3a"
             ],
             [
              0.8888888888888888,
              "#fdca26"
             ],
             [
              1,
              "#f0f921"
             ]
            ],
            "type": "histogram2d"
           }
          ],
          "histogram2dcontour": [
           {
            "colorbar": {
             "outlinewidth": 0,
             "ticks": ""
            },
            "colorscale": [
             [
              0,
              "#0d0887"
             ],
             [
              0.1111111111111111,
              "#46039f"
             ],
             [
              0.2222222222222222,
              "#7201a8"
             ],
             [
              0.3333333333333333,
              "#9c179e"
             ],
             [
              0.4444444444444444,
              "#bd3786"
             ],
             [
              0.5555555555555556,
              "#d8576b"
             ],
             [
              0.6666666666666666,
              "#ed7953"
             ],
             [
              0.7777777777777778,
              "#fb9f3a"
             ],
             [
              0.8888888888888888,
              "#fdca26"
             ],
             [
              1,
              "#f0f921"
             ]
            ],
            "type": "histogram2dcontour"
           }
          ],
          "mesh3d": [
           {
            "colorbar": {
             "outlinewidth": 0,
             "ticks": ""
            },
            "type": "mesh3d"
           }
          ],
          "parcoords": [
           {
            "line": {
             "colorbar": {
              "outlinewidth": 0,
              "ticks": ""
             }
            },
            "type": "parcoords"
           }
          ],
          "pie": [
           {
            "automargin": true,
            "type": "pie"
           }
          ],
          "scatter": [
           {
            "fillpattern": {
             "fillmode": "overlay",
             "size": 10,
             "solidity": 0.2
            },
            "type": "scatter"
           }
          ],
          "scatter3d": [
           {
            "line": {
             "colorbar": {
              "outlinewidth": 0,
              "ticks": ""
             }
            },
            "marker": {
             "colorbar": {
              "outlinewidth": 0,
              "ticks": ""
             }
            },
            "type": "scatter3d"
           }
          ],
          "scattercarpet": [
           {
            "marker": {
             "colorbar": {
              "outlinewidth": 0,
              "ticks": ""
             }
            },
            "type": "scattercarpet"
           }
          ],
          "scattergeo": [
           {
            "marker": {
             "colorbar": {
              "outlinewidth": 0,
              "ticks": ""
             }
            },
            "type": "scattergeo"
           }
          ],
          "scattergl": [
           {
            "marker": {
             "colorbar": {
              "outlinewidth": 0,
              "ticks": ""
             }
            },
            "type": "scattergl"
           }
          ],
          "scattermapbox": [
           {
            "marker": {
             "colorbar": {
              "outlinewidth": 0,
              "ticks": ""
             }
            },
            "type": "scattermapbox"
           }
          ],
          "scatterpolar": [
           {
            "marker": {
             "colorbar": {
              "outlinewidth": 0,
              "ticks": ""
             }
            },
            "type": "scatterpolar"
           }
          ],
          "scatterpolargl": [
           {
            "marker": {
             "colorbar": {
              "outlinewidth": 0,
              "ticks": ""
             }
            },
            "type": "scatterpolargl"
           }
          ],
          "scatterternary": [
           {
            "marker": {
             "colorbar": {
              "outlinewidth": 0,
              "ticks": ""
             }
            },
            "type": "scatterternary"
           }
          ],
          "surface": [
           {
            "colorbar": {
             "outlinewidth": 0,
             "ticks": ""
            },
            "colorscale": [
             [
              0,
              "#0d0887"
             ],
             [
              0.1111111111111111,
              "#46039f"
             ],
             [
              0.2222222222222222,
              "#7201a8"
             ],
             [
              0.3333333333333333,
              "#9c179e"
             ],
             [
              0.4444444444444444,
              "#bd3786"
             ],
             [
              0.5555555555555556,
              "#d8576b"
             ],
             [
              0.6666666666666666,
              "#ed7953"
             ],
             [
              0.7777777777777778,
              "#fb9f3a"
             ],
             [
              0.8888888888888888,
              "#fdca26"
             ],
             [
              1,
              "#f0f921"
             ]
            ],
            "type": "surface"
           }
          ],
          "table": [
           {
            "cells": {
             "fill": {
              "color": "#EBF0F8"
             },
             "line": {
              "color": "white"
             }
            },
            "header": {
             "fill": {
              "color": "#C8D4E3"
             },
             "line": {
              "color": "white"
             }
            },
            "type": "table"
           }
          ]
         },
         "layout": {
          "annotationdefaults": {
           "arrowcolor": "#2a3f5f",
           "arrowhead": 0,
           "arrowwidth": 1
          },
          "autotypenumbers": "strict",
          "coloraxis": {
           "colorbar": {
            "outlinewidth": 0,
            "ticks": ""
           }
          },
          "colorscale": {
           "diverging": [
            [
             0,
             "#8e0152"
            ],
            [
             0.1,
             "#c51b7d"
            ],
            [
             0.2,
             "#de77ae"
            ],
            [
             0.3,
             "#f1b6da"
            ],
            [
             0.4,
             "#fde0ef"
            ],
            [
             0.5,
             "#f7f7f7"
            ],
            [
             0.6,
             "#e6f5d0"
            ],
            [
             0.7,
             "#b8e186"
            ],
            [
             0.8,
             "#7fbc41"
            ],
            [
             0.9,
             "#4d9221"
            ],
            [
             1,
             "#276419"
            ]
           ],
           "sequential": [
            [
             0,
             "#0d0887"
            ],
            [
             0.1111111111111111,
             "#46039f"
            ],
            [
             0.2222222222222222,
             "#7201a8"
            ],
            [
             0.3333333333333333,
             "#9c179e"
            ],
            [
             0.4444444444444444,
             "#bd3786"
            ],
            [
             0.5555555555555556,
             "#d8576b"
            ],
            [
             0.6666666666666666,
             "#ed7953"
            ],
            [
             0.7777777777777778,
             "#fb9f3a"
            ],
            [
             0.8888888888888888,
             "#fdca26"
            ],
            [
             1,
             "#f0f921"
            ]
           ],
           "sequentialminus": [
            [
             0,
             "#0d0887"
            ],
            [
             0.1111111111111111,
             "#46039f"
            ],
            [
             0.2222222222222222,
             "#7201a8"
            ],
            [
             0.3333333333333333,
             "#9c179e"
            ],
            [
             0.4444444444444444,
             "#bd3786"
            ],
            [
             0.5555555555555556,
             "#d8576b"
            ],
            [
             0.6666666666666666,
             "#ed7953"
            ],
            [
             0.7777777777777778,
             "#fb9f3a"
            ],
            [
             0.8888888888888888,
             "#fdca26"
            ],
            [
             1,
             "#f0f921"
            ]
           ]
          },
          "colorway": [
           "#636efa",
           "#EF553B",
           "#00cc96",
           "#ab63fa",
           "#FFA15A",
           "#19d3f3",
           "#FF6692",
           "#B6E880",
           "#FF97FF",
           "#FECB52"
          ],
          "font": {
           "color": "#2a3f5f"
          },
          "geo": {
           "bgcolor": "white",
           "lakecolor": "white",
           "landcolor": "#E5ECF6",
           "showlakes": true,
           "showland": true,
           "subunitcolor": "white"
          },
          "hoverlabel": {
           "align": "left"
          },
          "hovermode": "closest",
          "mapbox": {
           "style": "light"
          },
          "paper_bgcolor": "white",
          "plot_bgcolor": "#E5ECF6",
          "polar": {
           "angularaxis": {
            "gridcolor": "white",
            "linecolor": "white",
            "ticks": ""
           },
           "bgcolor": "#E5ECF6",
           "radialaxis": {
            "gridcolor": "white",
            "linecolor": "white",
            "ticks": ""
           }
          },
          "scene": {
           "xaxis": {
            "backgroundcolor": "#E5ECF6",
            "gridcolor": "white",
            "gridwidth": 2,
            "linecolor": "white",
            "showbackground": true,
            "ticks": "",
            "zerolinecolor": "white"
           },
           "yaxis": {
            "backgroundcolor": "#E5ECF6",
            "gridcolor": "white",
            "gridwidth": 2,
            "linecolor": "white",
            "showbackground": true,
            "ticks": "",
            "zerolinecolor": "white"
           },
           "zaxis": {
            "backgroundcolor": "#E5ECF6",
            "gridcolor": "white",
            "gridwidth": 2,
            "linecolor": "white",
            "showbackground": true,
            "ticks": "",
            "zerolinecolor": "white"
           }
          },
          "shapedefaults": {
           "line": {
            "color": "#2a3f5f"
           }
          },
          "ternary": {
           "aaxis": {
            "gridcolor": "white",
            "linecolor": "white",
            "ticks": ""
           },
           "baxis": {
            "gridcolor": "white",
            "linecolor": "white",
            "ticks": ""
           },
           "bgcolor": "#E5ECF6",
           "caxis": {
            "gridcolor": "white",
            "linecolor": "white",
            "ticks": ""
           }
          },
          "title": {
           "x": 0.05
          },
          "xaxis": {
           "automargin": true,
           "gridcolor": "white",
           "linecolor": "white",
           "ticks": "",
           "title": {
            "standoff": 15
           },
           "zerolinecolor": "white",
           "zerolinewidth": 2
          },
          "yaxis": {
           "automargin": true,
           "gridcolor": "white",
           "linecolor": "white",
           "ticks": "",
           "title": {
            "standoff": 15
           },
           "zerolinecolor": "white",
           "zerolinewidth": 2
          }
         }
        },
        "title": {
         "text": "Citations and teaching top 3 unis"
        },
        "xaxis": {
         "title": {
          "text": "Top 3 unis"
         }
        }
       }
      }
     },
     "metadata": {},
     "output_type": "display_data"
    }
   ],
   "source": [
    "#Agrupamos y contamos según el día del mes\n",
    "conteo_por_dia = beer_sales_with_names.groupby('dia').size().reset_index(name='ventas')\n",
    "# Convertimos la columna \"dia\" a enteros y ordenamos de menor a mayor\n",
    "conteo_por_dia['dia'] = conteo_por_dia['dia'].astype(int)\n",
    "conteo_por_dia = conteo_por_dia.sort_values(by='dia')\n",
    "#Ahora agrupamos y contamos según la hora\n",
    "conteo_por_hora = beer_sales_with_names.groupby('hora').size().reset_index(name='ventas')\n",
    "# Convertimos la columna \"hora\" a enteros y ordenamos de menor a mayor\n",
    "conteo_por_hora['hora'] = conteo_por_hora['hora'].astype(int)\n",
    "conteo_por_hora = conteo_por_hora.sort_values(by='hora')\n",
    "\n",
    "import plotly.graph_objs as go\n",
    "from plotly.offline import init_notebook_mode, iplot, plot\n",
    "\n",
    "trace1 = {\n",
    "    'x': conteo_por_dia.dia,\n",
    "    'y': conteo_por_dia.ventas,\n",
    "    'name': 'citation',\n",
    "    'type': 'bar'\n",
    "\n",
    "}\n",
    "\n",
    "trace2 = {\n",
    "    'x': conteo_por_hora.hora,\n",
    "    'y': conteo_por_hora.ventas,\n",
    "    'name': 'teaching',\n",
    "    'type': 'bar'\n",
    "\n",
    "}\n",
    "\n",
    "data = [trace1, trace2]\n",
    "\n",
    "layout  = {\n",
    "    'xaxis': {'title': 'Top 3 unis'},\n",
    "    'barmode': 'group',\n",
    "    'title': 'Citations and teaching top 3 unis'\n",
    "\n",
    "}\n",
    "\n",
    "\n",
    "fig = go.Figure(data = data, layout = layout)\n",
    "iplot(fig)"
   ]
  },
  {
   "cell_type": "markdown",
   "metadata": {},
   "source": [
    "<span style=\"color:grey\">Opción 2: Matplotlib"
   ]
  },
  {
   "cell_type": "code",
   "execution_count": 12,
   "metadata": {
    "metadata": {}
   },
   "outputs": [
    {
     "data": {
      "image/png": "[encoded data removed]",
      "text/plain": [
       "<Figure size 1600x500 with 2 Axes>"
      ]
     },
     "metadata": {},
     "output_type": "display_data"
    }
   ],
   "source": [
    "# Configuración de la figura y los subgráficos\n",
    "fig, (ax1, ax2) = plt.subplots(1, 2, figsize=(16, 5))\n",
    "\n",
    "# Gráfico para conteo_por_hora\n",
    "ax1.bar(conteo_por_hora['hora'], conteo_por_hora['ventas'], color='blue')\n",
    "ax1.set_title('Ventas por hora')\n",
    "ax1.set_xlabel('Hora')\n",
    "ax1.set_ylabel('Ventas')\n",
    "\n",
    "# Gráfico para conteo_por_dia\n",
    "ax2.bar(conteo_por_dia['dia'], conteo_por_dia['ventas'], color='green')\n",
    "ax2.set_title('Ventas por día')\n",
    "ax2.set_xlabel('Día')\n",
    "ax2.set_ylabel('Ventas')\n",
    "\n",
    "# Mostrar el gráfico\n",
    "plt.tight_layout()\n",
    "plt.savefig('outputs/ventas_dia_y_hora.png')\n",
    "plt.show()\n"
   ]
  },
  {
   "cell_type": "markdown",
   "metadata": {},
   "source": [
    "¿Qué usos de Machine Learning verías aplicables a este conjunto de datos?"
   ]
  },
  {
   "cell_type": "markdown",
   "metadata": {},
   "source": [
    "<span style=\"color:grey\">Este DataSet posee información muy útil sobre las ventas totales de cerveza en función de varios parámetros. Puesto que la columna importe es la más importante desde un punto de vista de negocio (interesa aumentar las ventas al máximo) se puede utilizar como columna de target para aplicar varios modelos supervisados de ML:\n",
    "\n",
    "<span style=\"color:grey\">-Modelos de clasificación: Emplear algunos modelos de clasificación como SVM, KNN, Random Forest o Regresión Logística para predecir grandes volúmenes de ventas. Para este fin se clasificaría como 0 compras pequeñas y como 1 compras de un elevado importe (por encima de cierto umbral)\n",
    "\n",
    "<span style=\"color:grey\">-Modelos de regresión: Emplear algunos modelos de regresión como una regresión lineal -o polinomial- para predecir el total de ventas de una tienda en un día, o durante un periodo de horas.\n",
    "\n",
    "\n",
    "<span style=\"color:grey\">Algunos modelos no supervisados que también se podrian emplear son la clusterización, utilizando algoritmos como KMeans o DBSCAN para clusterizar a los clientes. Esta clusterización puede ser de gran utilidad para segmentar a nuestros clientes -gente que entra a comprar pronto y lo hace en pequeñas cantidades, o gente que compra a principios de mes y realiza un elevado gasto económico-. Esta información es clave para un departamento de marketing o de gestión de ventas, ya que les permite conocer más en profundidad a los consumidores habituales y las futuras estrategias de negocio pueden ir mejor orientadas -data driven decissions-."
   ]
  }
 ],
 "metadata": {
  "kernelspec": {
   "display_name": "Python 3",
   "language": "python",
   "name": "python3"
  },
  "language_info": {
   "codemirror_mode": {
    "name": "ipython",
    "version": 3
   },
   "file_extension": ".py",
   "mimetype": "text/x-python",
   "name": "python",
   "nbconvert_exporter": "python",
   "pygments_lexer": "ipython3",
   "version": "3.7.4"
  }
 },
 "nbformat": 4,
 "nbformat_minor": 2
}
